{
 "cells": [
  {
   "cell_type": "markdown",
   "metadata": {
    "id": "5Fc60oI6m6uD"
   },
   "source": [
    "# Data Analyst Milestone 2: Exploratory Data Analysis"
   ]
  },
  {
   "cell_type": "markdown",
   "metadata": {
    "id": "dTZOe75Um6uF"
   },
   "source": [
    "**Objective**\n",
    "\n",
    "The objective of milestone-2 is to perform Data preprocessing & EDA to understand about the digital transformation initiative. The output of milestone-2 will be used in milestone-3 to create an interactive dashboard for decision making. In order to do that follow the solution approach given in the capstone project overview & use the learners file for milestone-2 to answer the business questions.\n",
    "\n"
   ]
  },
  {
   "cell_type": "markdown",
   "metadata": {
    "id": "9tRIjr4im6uI"
   },
   "source": [
    "## Importing the required libraries"
   ]
  },
  {
   "cell_type": "code",
   "execution_count": 1,
   "metadata": {
    "id": "lPv3wfMGm6uJ"
   },
   "outputs": [],
   "source": [
    "# import libraries for data manipulation\n",
    "import numpy as np\n",
    "import pandas as pd\n",
    "\n",
    "# import libraries for data visualization\n",
    "import matplotlib.pyplot as plt\n",
    "import seaborn as sns\n",
    "%matplotlib inline"
   ]
  },
  {
   "cell_type": "markdown",
   "metadata": {
    "id": "PQ3NUa4mm6uM"
   },
   "source": [
    "## Importing the dataset "
   ]
  },
  {
   "cell_type": "markdown",
   "metadata": {
    "id": "3OoEi3KQBk0C"
   },
   "source": [
    "Run the code written below. After running the code, Google Colab will ask you to upload the.csv file. Please upload the same."
   ]
  },
  {
   "cell_type": "code",
   "execution_count": 3,
   "metadata": {
    "id": "viGSxT42m6uN",
    "scrolled": true
   },
   "outputs": [],
   "source": [
    "# read the data\n",
    "df = pd.read_csv('C:/Users/15612/Downloads/AlphaKart_milestone2_input.csv')\n",
    "# add the file path and file name Alphacart_milestone1_output.csv\n",
    "# returns the first 5 rows\n"
   ]
  },
  {
   "cell_type": "code",
   "execution_count": 10,
   "metadata": {},
   "outputs": [
    {
     "data": {
      "text/html": [
       "<div>\n",
       "<style scoped>\n",
       "    .dataframe tbody tr th:only-of-type {\n",
       "        vertical-align: middle;\n",
       "    }\n",
       "\n",
       "    .dataframe tbody tr th {\n",
       "        vertical-align: top;\n",
       "    }\n",
       "\n",
       "    .dataframe thead th {\n",
       "        text-align: right;\n",
       "    }\n",
       "</style>\n",
       "<table border=\"1\" class=\"dataframe\">\n",
       "  <thead>\n",
       "    <tr style=\"text-align: right;\">\n",
       "      <th></th>\n",
       "      <th>customer_id</th>\n",
       "      <th>marital_status</th>\n",
       "      <th>occupation</th>\n",
       "      <th>education</th>\n",
       "      <th>warehouse_name</th>\n",
       "      <th>order_id</th>\n",
       "      <th>order_date</th>\n",
       "      <th>order_price</th>\n",
       "      <th>delivery_charges</th>\n",
       "      <th>coupon_discount</th>\n",
       "      <th>order_type</th>\n",
       "      <th>order_payment</th>\n",
       "      <th>is_expedited_delivery</th>\n",
       "      <th>distance_to_nearest_warehouse</th>\n",
       "      <th>customer_satisfaction</th>\n",
       "      <th>age</th>\n",
       "      <th>warehouse_area_type</th>\n",
       "      <th>warehouse_size</th>\n",
       "      <th>total_bill</th>\n",
       "    </tr>\n",
       "  </thead>\n",
       "  <tbody>\n",
       "    <tr>\n",
       "      <th>0</th>\n",
       "      <td>ID0571731474</td>\n",
       "      <td>Yes</td>\n",
       "      <td>Manager</td>\n",
       "      <td>Masters</td>\n",
       "      <td>Nickolson</td>\n",
       "      <td>ORD001041</td>\n",
       "      <td>2021-06-13</td>\n",
       "      <td>8725</td>\n",
       "      <td>66.86</td>\n",
       "      <td>15</td>\n",
       "      <td>COD</td>\n",
       "      <td>Cash</td>\n",
       "      <td>False</td>\n",
       "      <td>0.7237</td>\n",
       "      <td>False</td>\n",
       "      <td>24</td>\n",
       "      <td>Commercial</td>\n",
       "      <td>Medium</td>\n",
       "      <td>7483.11</td>\n",
       "    </tr>\n",
       "    <tr>\n",
       "      <th>1</th>\n",
       "      <td>ID6167441063</td>\n",
       "      <td>Yes</td>\n",
       "      <td>Clerical</td>\n",
       "      <td>School</td>\n",
       "      <td>Thompson</td>\n",
       "      <td>ORD004361</td>\n",
       "      <td>2021-06-02</td>\n",
       "      <td>22220</td>\n",
       "      <td>53.80</td>\n",
       "      <td>15</td>\n",
       "      <td>COD</td>\n",
       "      <td>Cash</td>\n",
       "      <td>False</td>\n",
       "      <td>1.4593</td>\n",
       "      <td>False</td>\n",
       "      <td>30</td>\n",
       "      <td>Industrial</td>\n",
       "      <td>Large</td>\n",
       "      <td>18940.80</td>\n",
       "    </tr>\n",
       "    <tr>\n",
       "      <th>2</th>\n",
       "      <td>ID6221450539</td>\n",
       "      <td>Yes</td>\n",
       "      <td>Lawyer</td>\n",
       "      <td>Masters</td>\n",
       "      <td>Nickolson</td>\n",
       "      <td>ORD004602</td>\n",
       "      <td>2021-06-17</td>\n",
       "      <td>10460</td>\n",
       "      <td>65.47</td>\n",
       "      <td>15</td>\n",
       "      <td>COD</td>\n",
       "      <td>Debit Card</td>\n",
       "      <td>True</td>\n",
       "      <td>1.0229</td>\n",
       "      <td>True</td>\n",
       "      <td>23</td>\n",
       "      <td>Commercial</td>\n",
       "      <td>Medium</td>\n",
       "      <td>8956.47</td>\n",
       "    </tr>\n",
       "    <tr>\n",
       "      <th>3</th>\n",
       "      <td>ID2383211221</td>\n",
       "      <td>Yes</td>\n",
       "      <td>Manager</td>\n",
       "      <td>High School</td>\n",
       "      <td>Nickolson</td>\n",
       "      <td>ORD004848</td>\n",
       "      <td>2021-06-13</td>\n",
       "      <td>15070</td>\n",
       "      <td>79.13</td>\n",
       "      <td>5</td>\n",
       "      <td>COD</td>\n",
       "      <td>Debit Card</td>\n",
       "      <td>True</td>\n",
       "      <td>1.0328</td>\n",
       "      <td>True</td>\n",
       "      <td>28</td>\n",
       "      <td>Commercial</td>\n",
       "      <td>Medium</td>\n",
       "      <td>14395.63</td>\n",
       "    </tr>\n",
       "    <tr>\n",
       "      <th>4</th>\n",
       "      <td>ID0248129431</td>\n",
       "      <td>No</td>\n",
       "      <td>Student</td>\n",
       "      <td>School</td>\n",
       "      <td>Nickolson</td>\n",
       "      <td>ORD005232</td>\n",
       "      <td>2021-07-09</td>\n",
       "      <td>5905</td>\n",
       "      <td>95.22</td>\n",
       "      <td>15</td>\n",
       "      <td>COD</td>\n",
       "      <td>Credit Card</td>\n",
       "      <td>True</td>\n",
       "      <td>0.1227</td>\n",
       "      <td>True</td>\n",
       "      <td>31</td>\n",
       "      <td>Commercial</td>\n",
       "      <td>Medium</td>\n",
       "      <td>5114.47</td>\n",
       "    </tr>\n",
       "  </tbody>\n",
       "</table>\n",
       "</div>"
      ],
      "text/plain": [
       "    customer_id marital_status occupation    education warehouse_name  \\\n",
       "0  ID0571731474            Yes    Manager      Masters      Nickolson   \n",
       "1  ID6167441063            Yes   Clerical       School       Thompson   \n",
       "2  ID6221450539            Yes     Lawyer      Masters      Nickolson   \n",
       "3  ID2383211221            Yes    Manager  High School      Nickolson   \n",
       "4  ID0248129431             No    Student       School      Nickolson   \n",
       "\n",
       "    order_id  order_date  order_price  delivery_charges  coupon_discount  \\\n",
       "0  ORD001041  2021-06-13         8725             66.86               15   \n",
       "1  ORD004361  2021-06-02        22220             53.80               15   \n",
       "2  ORD004602  2021-06-17        10460             65.47               15   \n",
       "3  ORD004848  2021-06-13        15070             79.13                5   \n",
       "4  ORD005232  2021-07-09         5905             95.22               15   \n",
       "\n",
       "  order_type order_payment  is_expedited_delivery  \\\n",
       "0        COD          Cash                  False   \n",
       "1        COD          Cash                  False   \n",
       "2        COD    Debit Card                   True   \n",
       "3        COD    Debit Card                   True   \n",
       "4        COD   Credit Card                   True   \n",
       "\n",
       "   distance_to_nearest_warehouse  customer_satisfaction  age  \\\n",
       "0                         0.7237                  False   24   \n",
       "1                         1.4593                  False   30   \n",
       "2                         1.0229                   True   23   \n",
       "3                         1.0328                   True   28   \n",
       "4                         0.1227                   True   31   \n",
       "\n",
       "  warehouse_area_type warehouse_size  total_bill  \n",
       "0          Commercial         Medium     7483.11  \n",
       "1          Industrial          Large    18940.80  \n",
       "2          Commercial         Medium     8956.47  \n",
       "3          Commercial         Medium    14395.63  \n",
       "4          Commercial         Medium     5114.47  "
      ]
     },
     "execution_count": 10,
     "metadata": {},
     "output_type": "execute_result"
    }
   ],
   "source": [
    "df.head()"
   ]
  },
  {
   "cell_type": "markdown",
   "metadata": {
    "id": "1e86HPuP_PLD"
   },
   "source": [
    "## Data Summary"
   ]
  },
  {
   "cell_type": "markdown",
   "metadata": {
    "id": "bKndbICMm6uT"
   },
   "source": [
    "#### **Question 1:** How many rows and columns are present in the data?"
   ]
  },
  {
   "cell_type": "code",
   "execution_count": 6,
   "metadata": {
    "id": "ABFUnFLUm6uW"
   },
   "outputs": [
    {
     "data": {
      "text/plain": [
       "(500, 19)"
      ]
     },
     "execution_count": 6,
     "metadata": {},
     "output_type": "execute_result"
    }
   ],
   "source": [
    "df.shape"
   ]
  },
  {
   "cell_type": "markdown",
   "metadata": {
    "id": "w8G4KUrCm6uX"
   },
   "source": [
    "Observations: The dataset has 500 rows and 19 columns."
   ]
  },
  {
   "cell_type": "markdown",
   "metadata": {
    "id": "KmfVNFUXm6uY"
   },
   "source": [
    "#### **Question 2:** What are the datatypes of the different columns in the dataset? "
   ]
  },
  {
   "cell_type": "code",
   "execution_count": 7,
   "metadata": {},
   "outputs": [
    {
     "name": "stdout",
     "output_type": "stream",
     "text": [
      "<class 'pandas.core.frame.DataFrame'>\n",
      "RangeIndex: 500 entries, 0 to 499\n",
      "Data columns (total 19 columns):\n",
      " #   Column                         Non-Null Count  Dtype  \n",
      "---  ------                         --------------  -----  \n",
      " 0   customer_id                    500 non-null    object \n",
      " 1   marital_status                 500 non-null    object \n",
      " 2   occupation                     500 non-null    object \n",
      " 3   education                      500 non-null    object \n",
      " 4   warehouse_name                 500 non-null    object \n",
      " 5   order_id                       500 non-null    object \n",
      " 6   order_date                     500 non-null    object \n",
      " 7   order_price                    500 non-null    int64  \n",
      " 8   delivery_charges               500 non-null    float64\n",
      " 9   coupon_discount                500 non-null    int64  \n",
      " 10  order_type                     477 non-null    object \n",
      " 11  order_payment                  500 non-null    object \n",
      " 12  is_expedited_delivery          500 non-null    bool   \n",
      " 13  distance_to_nearest_warehouse  500 non-null    float64\n",
      " 14  customer_satisfaction          500 non-null    bool   \n",
      " 15  age                            500 non-null    int64  \n",
      " 16  warehouse_area_type            500 non-null    object \n",
      " 17  warehouse_size                 500 non-null    object \n",
      " 18  total_bill                     500 non-null    float64\n",
      "dtypes: bool(2), float64(3), int64(3), object(11)\n",
      "memory usage: 67.5+ KB\n"
     ]
    }
   ],
   "source": [
    "df.info()"
   ]
  },
  {
   "cell_type": "markdown",
   "metadata": {
    "id": "DgzbdbBR9R26"
   },
   "source": [
    "Observations: \n",
    "- All the columns have 500 observations except order_type which has 477 observations indicating that there are some missing values in order_type. \n",
    "- order_date is being read as a 'object' data type but it should be in date-time format.\n",
    "- The rest of the object type columns contain categories in them."
   ]
  },
  {
   "cell_type": "markdown",
   "metadata": {},
   "source": [
    "#### Changing order_date from object type to date-time format"
   ]
  },
  {
   "cell_type": "code",
   "execution_count": 49,
   "metadata": {},
   "outputs": [],
   "source": [
    "df['order_date'] = pd.to_datetime(df['order_date'], format=\"%Y-%m-%d\")"
   ]
  },
  {
   "cell_type": "markdown",
   "metadata": {},
   "source": [
    "#### Changing categorical object types to category datatypes"
   ]
  },
  {
   "cell_type": "code",
   "execution_count": 80,
   "metadata": {},
   "outputs": [
    {
     "data": {
      "text/html": [
       "<div>\n",
       "<style scoped>\n",
       "    .dataframe tbody tr th:only-of-type {\n",
       "        vertical-align: middle;\n",
       "    }\n",
       "\n",
       "    .dataframe tbody tr th {\n",
       "        vertical-align: top;\n",
       "    }\n",
       "\n",
       "    .dataframe thead th {\n",
       "        text-align: right;\n",
       "    }\n",
       "</style>\n",
       "<table border=\"1\" class=\"dataframe\">\n",
       "  <thead>\n",
       "    <tr style=\"text-align: right;\">\n",
       "      <th></th>\n",
       "      <th>customer_id</th>\n",
       "      <th>marital_status</th>\n",
       "      <th>occupation</th>\n",
       "      <th>education</th>\n",
       "      <th>warehouse_name</th>\n",
       "      <th>order_id</th>\n",
       "      <th>order_date</th>\n",
       "      <th>order_price</th>\n",
       "      <th>delivery_charges</th>\n",
       "      <th>coupon_discount</th>\n",
       "      <th>order_type</th>\n",
       "      <th>order_payment</th>\n",
       "      <th>is_expedited_delivery</th>\n",
       "      <th>distance_to_nearest_warehouse</th>\n",
       "      <th>customer_satisfaction</th>\n",
       "      <th>age</th>\n",
       "      <th>warehouse_area_type</th>\n",
       "      <th>warehouse_size</th>\n",
       "      <th>total_bill</th>\n",
       "      <th>order_month</th>\n",
       "    </tr>\n",
       "  </thead>\n",
       "  <tbody>\n",
       "    <tr>\n",
       "      <th>0</th>\n",
       "      <td>ID0571731474</td>\n",
       "      <td>Yes</td>\n",
       "      <td>Manager</td>\n",
       "      <td>Masters</td>\n",
       "      <td>Nickolson</td>\n",
       "      <td>ORD001041</td>\n",
       "      <td>2021-06-13</td>\n",
       "      <td>8725</td>\n",
       "      <td>66.86</td>\n",
       "      <td>15</td>\n",
       "      <td>COD</td>\n",
       "      <td>Cash</td>\n",
       "      <td>False</td>\n",
       "      <td>0.7237</td>\n",
       "      <td>False</td>\n",
       "      <td>24</td>\n",
       "      <td>Commercial</td>\n",
       "      <td>Medium</td>\n",
       "      <td>7483.11</td>\n",
       "      <td>June</td>\n",
       "    </tr>\n",
       "    <tr>\n",
       "      <th>1</th>\n",
       "      <td>ID6167441063</td>\n",
       "      <td>Yes</td>\n",
       "      <td>Clerical</td>\n",
       "      <td>School</td>\n",
       "      <td>Thompson</td>\n",
       "      <td>ORD004361</td>\n",
       "      <td>2021-06-02</td>\n",
       "      <td>22220</td>\n",
       "      <td>53.80</td>\n",
       "      <td>15</td>\n",
       "      <td>COD</td>\n",
       "      <td>Cash</td>\n",
       "      <td>False</td>\n",
       "      <td>1.4593</td>\n",
       "      <td>False</td>\n",
       "      <td>30</td>\n",
       "      <td>Industrial</td>\n",
       "      <td>Large</td>\n",
       "      <td>18940.80</td>\n",
       "      <td>June</td>\n",
       "    </tr>\n",
       "    <tr>\n",
       "      <th>2</th>\n",
       "      <td>ID6221450539</td>\n",
       "      <td>Yes</td>\n",
       "      <td>Lawyer</td>\n",
       "      <td>Masters</td>\n",
       "      <td>Nickolson</td>\n",
       "      <td>ORD004602</td>\n",
       "      <td>2021-06-17</td>\n",
       "      <td>10460</td>\n",
       "      <td>65.47</td>\n",
       "      <td>15</td>\n",
       "      <td>COD</td>\n",
       "      <td>Debit Card</td>\n",
       "      <td>True</td>\n",
       "      <td>1.0229</td>\n",
       "      <td>True</td>\n",
       "      <td>23</td>\n",
       "      <td>Commercial</td>\n",
       "      <td>Medium</td>\n",
       "      <td>8956.47</td>\n",
       "      <td>June</td>\n",
       "    </tr>\n",
       "    <tr>\n",
       "      <th>3</th>\n",
       "      <td>ID2383211221</td>\n",
       "      <td>Yes</td>\n",
       "      <td>Manager</td>\n",
       "      <td>High School</td>\n",
       "      <td>Nickolson</td>\n",
       "      <td>ORD004848</td>\n",
       "      <td>2021-06-13</td>\n",
       "      <td>15070</td>\n",
       "      <td>79.13</td>\n",
       "      <td>5</td>\n",
       "      <td>COD</td>\n",
       "      <td>Debit Card</td>\n",
       "      <td>True</td>\n",
       "      <td>1.0328</td>\n",
       "      <td>True</td>\n",
       "      <td>28</td>\n",
       "      <td>Commercial</td>\n",
       "      <td>Medium</td>\n",
       "      <td>14395.63</td>\n",
       "      <td>June</td>\n",
       "    </tr>\n",
       "    <tr>\n",
       "      <th>4</th>\n",
       "      <td>ID0248129431</td>\n",
       "      <td>No</td>\n",
       "      <td>Student</td>\n",
       "      <td>School</td>\n",
       "      <td>Nickolson</td>\n",
       "      <td>ORD005232</td>\n",
       "      <td>2021-07-09</td>\n",
       "      <td>5905</td>\n",
       "      <td>95.22</td>\n",
       "      <td>15</td>\n",
       "      <td>COD</td>\n",
       "      <td>Credit Card</td>\n",
       "      <td>True</td>\n",
       "      <td>0.1227</td>\n",
       "      <td>True</td>\n",
       "      <td>31</td>\n",
       "      <td>Commercial</td>\n",
       "      <td>Medium</td>\n",
       "      <td>5114.47</td>\n",
       "      <td>July</td>\n",
       "    </tr>\n",
       "    <tr>\n",
       "      <th>5</th>\n",
       "      <td>ID2222040558</td>\n",
       "      <td>Yes</td>\n",
       "      <td>Clerical</td>\n",
       "      <td>High School</td>\n",
       "      <td>Thompson</td>\n",
       "      <td>ORD005286</td>\n",
       "      <td>2021-07-21</td>\n",
       "      <td>19560</td>\n",
       "      <td>82.44</td>\n",
       "      <td>10</td>\n",
       "      <td>COD</td>\n",
       "      <td>Cash</td>\n",
       "      <td>False</td>\n",
       "      <td>1.4037</td>\n",
       "      <td>False</td>\n",
       "      <td>30</td>\n",
       "      <td>Industrial</td>\n",
       "      <td>Large</td>\n",
       "      <td>17686.44</td>\n",
       "      <td>July</td>\n",
       "    </tr>\n",
       "    <tr>\n",
       "      <th>6</th>\n",
       "      <td>ID5002592919</td>\n",
       "      <td>Yes</td>\n",
       "      <td>Doctor</td>\n",
       "      <td>PhD</td>\n",
       "      <td>Nickolson</td>\n",
       "      <td>ORD007249</td>\n",
       "      <td>2021-05-21</td>\n",
       "      <td>6535</td>\n",
       "      <td>60.64</td>\n",
       "      <td>15</td>\n",
       "      <td>COD</td>\n",
       "      <td>Credit Card</td>\n",
       "      <td>False</td>\n",
       "      <td>1.0880</td>\n",
       "      <td>False</td>\n",
       "      <td>26</td>\n",
       "      <td>Commercial</td>\n",
       "      <td>Medium</td>\n",
       "      <td>5615.39</td>\n",
       "      <td>May</td>\n",
       "    </tr>\n",
       "    <tr>\n",
       "      <th>7</th>\n",
       "      <td>ID0247018750</td>\n",
       "      <td>Yes</td>\n",
       "      <td>Blue Collar</td>\n",
       "      <td>High School</td>\n",
       "      <td>Thompson</td>\n",
       "      <td>ORD007904</td>\n",
       "      <td>2021-05-29</td>\n",
       "      <td>6865</td>\n",
       "      <td>96.00</td>\n",
       "      <td>15</td>\n",
       "      <td>COD</td>\n",
       "      <td>Cash</td>\n",
       "      <td>True</td>\n",
       "      <td>1.3612</td>\n",
       "      <td>False</td>\n",
       "      <td>24</td>\n",
       "      <td>Industrial</td>\n",
       "      <td>Large</td>\n",
       "      <td>5931.25</td>\n",
       "      <td>May</td>\n",
       "    </tr>\n",
       "    <tr>\n",
       "      <th>8</th>\n",
       "      <td>ID3130999251</td>\n",
       "      <td>No</td>\n",
       "      <td>Blue Collar</td>\n",
       "      <td>School</td>\n",
       "      <td>Thompson</td>\n",
       "      <td>ORD008127</td>\n",
       "      <td>2021-07-30</td>\n",
       "      <td>6770</td>\n",
       "      <td>77.13</td>\n",
       "      <td>5</td>\n",
       "      <td>COD</td>\n",
       "      <td>Debit Card</td>\n",
       "      <td>False</td>\n",
       "      <td>0.2540</td>\n",
       "      <td>False</td>\n",
       "      <td>31</td>\n",
       "      <td>Industrial</td>\n",
       "      <td>Large</td>\n",
       "      <td>6508.63</td>\n",
       "      <td>July</td>\n",
       "    </tr>\n",
       "    <tr>\n",
       "      <th>9</th>\n",
       "      <td>ID2187983888</td>\n",
       "      <td>Yes</td>\n",
       "      <td>Professional</td>\n",
       "      <td>Bachelors</td>\n",
       "      <td>Nickolson</td>\n",
       "      <td>ORD010057</td>\n",
       "      <td>2021-05-18</td>\n",
       "      <td>3085</td>\n",
       "      <td>53.47</td>\n",
       "      <td>10</td>\n",
       "      <td>Prepaid</td>\n",
       "      <td>EMI</td>\n",
       "      <td>False</td>\n",
       "      <td>1.3575</td>\n",
       "      <td>False</td>\n",
       "      <td>27</td>\n",
       "      <td>Commercial</td>\n",
       "      <td>Medium</td>\n",
       "      <td>2829.97</td>\n",
       "      <td>May</td>\n",
       "    </tr>\n",
       "  </tbody>\n",
       "</table>\n",
       "</div>"
      ],
      "text/plain": [
       "    customer_id marital_status    occupation    education warehouse_name  \\\n",
       "0  ID0571731474            Yes       Manager      Masters      Nickolson   \n",
       "1  ID6167441063            Yes      Clerical       School       Thompson   \n",
       "2  ID6221450539            Yes        Lawyer      Masters      Nickolson   \n",
       "3  ID2383211221            Yes       Manager  High School      Nickolson   \n",
       "4  ID0248129431             No       Student       School      Nickolson   \n",
       "5  ID2222040558            Yes      Clerical  High School       Thompson   \n",
       "6  ID5002592919            Yes        Doctor          PhD      Nickolson   \n",
       "7  ID0247018750            Yes   Blue Collar  High School       Thompson   \n",
       "8  ID3130999251             No   Blue Collar       School       Thompson   \n",
       "9  ID2187983888            Yes  Professional    Bachelors      Nickolson   \n",
       "\n",
       "    order_id order_date  order_price  delivery_charges  coupon_discount  \\\n",
       "0  ORD001041 2021-06-13         8725             66.86               15   \n",
       "1  ORD004361 2021-06-02        22220             53.80               15   \n",
       "2  ORD004602 2021-06-17        10460             65.47               15   \n",
       "3  ORD004848 2021-06-13        15070             79.13                5   \n",
       "4  ORD005232 2021-07-09         5905             95.22               15   \n",
       "5  ORD005286 2021-07-21        19560             82.44               10   \n",
       "6  ORD007249 2021-05-21         6535             60.64               15   \n",
       "7  ORD007904 2021-05-29         6865             96.00               15   \n",
       "8  ORD008127 2021-07-30         6770             77.13                5   \n",
       "9  ORD010057 2021-05-18         3085             53.47               10   \n",
       "\n",
       "  order_type order_payment  is_expedited_delivery  \\\n",
       "0        COD          Cash                  False   \n",
       "1        COD          Cash                  False   \n",
       "2        COD    Debit Card                   True   \n",
       "3        COD    Debit Card                   True   \n",
       "4        COD   Credit Card                   True   \n",
       "5        COD          Cash                  False   \n",
       "6        COD   Credit Card                  False   \n",
       "7        COD          Cash                   True   \n",
       "8        COD    Debit Card                  False   \n",
       "9    Prepaid           EMI                  False   \n",
       "\n",
       "   distance_to_nearest_warehouse  customer_satisfaction  age  \\\n",
       "0                         0.7237                  False   24   \n",
       "1                         1.4593                  False   30   \n",
       "2                         1.0229                   True   23   \n",
       "3                         1.0328                   True   28   \n",
       "4                         0.1227                   True   31   \n",
       "5                         1.4037                  False   30   \n",
       "6                         1.0880                  False   26   \n",
       "7                         1.3612                  False   24   \n",
       "8                         0.2540                  False   31   \n",
       "9                         1.3575                  False   27   \n",
       "\n",
       "  warehouse_area_type warehouse_size  total_bill order_month  \n",
       "0          Commercial         Medium     7483.11        June  \n",
       "1          Industrial          Large    18940.80        June  \n",
       "2          Commercial         Medium     8956.47        June  \n",
       "3          Commercial         Medium    14395.63        June  \n",
       "4          Commercial         Medium     5114.47        July  \n",
       "5          Industrial          Large    17686.44        July  \n",
       "6          Commercial         Medium     5615.39         May  \n",
       "7          Industrial          Large     5931.25         May  \n",
       "8          Industrial          Large     6508.63        July  \n",
       "9          Commercial         Medium     2829.97         May  "
      ]
     },
     "execution_count": 80,
     "metadata": {},
     "output_type": "execute_result"
    }
   ],
   "source": [
    "for feature in df.columns: # Loop through all columns in the dataframe\n",
    "    if df[feature].dtype == 'object': # Only apply for columns with categorical strings\n",
    "        df[feature] = pd.Categorical(df[feature])# Replace strings with an integer\n",
    "df.head(10)"
   ]
  },
  {
   "cell_type": "code",
   "execution_count": 81,
   "metadata": {},
   "outputs": [
    {
     "name": "stdout",
     "output_type": "stream",
     "text": [
      "<class 'pandas.core.frame.DataFrame'>\n",
      "RangeIndex: 500 entries, 0 to 499\n",
      "Data columns (total 20 columns):\n",
      " #   Column                         Non-Null Count  Dtype         \n",
      "---  ------                         --------------  -----         \n",
      " 0   customer_id                    500 non-null    category      \n",
      " 1   marital_status                 500 non-null    category      \n",
      " 2   occupation                     500 non-null    category      \n",
      " 3   education                      500 non-null    category      \n",
      " 4   warehouse_name                 500 non-null    category      \n",
      " 5   order_id                       500 non-null    category      \n",
      " 6   order_date                     500 non-null    datetime64[ns]\n",
      " 7   order_price                    500 non-null    int64         \n",
      " 8   delivery_charges               500 non-null    float64       \n",
      " 9   coupon_discount                500 non-null    int64         \n",
      " 10  order_type                     500 non-null    category      \n",
      " 11  order_payment                  500 non-null    category      \n",
      " 12  is_expedited_delivery          500 non-null    bool          \n",
      " 13  distance_to_nearest_warehouse  500 non-null    float64       \n",
      " 14  customer_satisfaction          500 non-null    bool          \n",
      " 15  age                            500 non-null    int64         \n",
      " 16  warehouse_area_type            500 non-null    category      \n",
      " 17  warehouse_size                 500 non-null    category      \n",
      " 18  total_bill                     500 non-null    float64       \n",
      " 19  order_month                    500 non-null    category      \n",
      "dtypes: bool(2), category(11), datetime64[ns](1), float64(3), int64(3)\n",
      "memory usage: 76.5 KB\n"
     ]
    }
   ],
   "source": [
    "df.info()"
   ]
  },
  {
   "cell_type": "markdown",
   "metadata": {},
   "source": [
    "All features have the appropriate data type now"
   ]
  },
  {
   "cell_type": "markdown",
   "metadata": {
    "id": "iTq8Zu8AxslZ"
   },
   "source": [
    "## Data Preprocessing"
   ]
  },
  {
   "cell_type": "markdown",
   "metadata": {
    "id": "_0d7ANtD_PLF"
   },
   "source": [
    "### Missing value Identification and Treatment"
   ]
  },
  {
   "cell_type": "markdown",
   "metadata": {
    "id": "JW4_u6TLm6ub"
   },
   "source": [
    "#### **Question 3:** Are there any missing values in the data? If so, treat them using an appropriate method."
   ]
  },
  {
   "cell_type": "code",
   "execution_count": 8,
   "metadata": {
    "id": "SYgzlPK_m6uc"
   },
   "outputs": [
    {
     "data": {
      "text/plain": [
       "customer_id                       0\n",
       "marital_status                    0\n",
       "occupation                        0\n",
       "education                         0\n",
       "warehouse_name                    0\n",
       "order_id                          0\n",
       "order_date                        0\n",
       "order_price                       0\n",
       "delivery_charges                  0\n",
       "coupon_discount                   0\n",
       "order_type                       23\n",
       "order_payment                     0\n",
       "is_expedited_delivery             0\n",
       "distance_to_nearest_warehouse     0\n",
       "customer_satisfaction             0\n",
       "age                               0\n",
       "warehouse_area_type               0\n",
       "warehouse_size                    0\n",
       "total_bill                        0\n",
       "dtype: int64"
      ]
     },
     "execution_count": 8,
     "metadata": {},
     "output_type": "execute_result"
    }
   ],
   "source": [
    "df.isnull().sum()"
   ]
  },
  {
   "cell_type": "markdown",
   "metadata": {
    "id": "FI3wLN7Tm6ue"
   },
   "source": [
    "#### Observations:\n",
    "- There are 23 missing values in the feature: order_date."
   ]
  },
  {
   "cell_type": "markdown",
   "metadata": {
    "id": "MkYLdK-1kEmh"
   },
   "source": [
    "##### Missing value treatment"
   ]
  },
  {
   "cell_type": "code",
   "execution_count": 12,
   "metadata": {
    "id": "HthcUvj_9iEp"
   },
   "outputs": [
    {
     "data": {
      "text/plain": [
       "Prepaid    0.590\n",
       "COD        0.364\n",
       "NaN        0.046\n",
       "Name: order_type, dtype: float64"
      ]
     },
     "execution_count": 12,
     "metadata": {},
     "output_type": "execute_result"
    }
   ],
   "source": [
    "df.order_type.value_counts(normalize=True, dropna=False)"
   ]
  },
  {
   "cell_type": "code",
   "execution_count": 15,
   "metadata": {},
   "outputs": [
    {
     "data": {
      "text/plain": [
       "'Prepaid'"
      ]
     },
     "execution_count": 15,
     "metadata": {},
     "output_type": "execute_result"
    }
   ],
   "source": [
    "df['order_type'].mode()[0]"
   ]
  },
  {
   "cell_type": "code",
   "execution_count": 18,
   "metadata": {},
   "outputs": [
    {
     "data": {
      "text/plain": [
       "Prepaid    295\n",
       "COD        182\n",
       "Name: order_type, dtype: int64"
      ]
     },
     "execution_count": 18,
     "metadata": {},
     "output_type": "execute_result"
    }
   ],
   "source": [
    "df['order_type'].value_counts()"
   ]
  },
  {
   "cell_type": "markdown",
   "metadata": {},
   "source": [
    "Prepaid is the most frequent value in the order_type feature. We will replace the missing values with the mode."
   ]
  },
  {
   "cell_type": "code",
   "execution_count": 19,
   "metadata": {},
   "outputs": [],
   "source": [
    "df['order_type'] = df['order_type'].fillna(value = df['order_type'].mode()[0])"
   ]
  },
  {
   "cell_type": "markdown",
   "metadata": {
    "id": "ejKgKxuDkEmk"
   },
   "source": [
    "Let's check the null values of the dataset again to confirm that imputation has been done properly."
   ]
  },
  {
   "cell_type": "code",
   "execution_count": 21,
   "metadata": {
    "id": "iyvxu4wQkEmk"
   },
   "outputs": [
    {
     "data": {
      "text/plain": [
       "customer_id                      0\n",
       "marital_status                   0\n",
       "occupation                       0\n",
       "education                        0\n",
       "warehouse_name                   0\n",
       "order_id                         0\n",
       "order_date                       0\n",
       "order_price                      0\n",
       "delivery_charges                 0\n",
       "coupon_discount                  0\n",
       "order_type                       0\n",
       "order_payment                    0\n",
       "is_expedited_delivery            0\n",
       "distance_to_nearest_warehouse    0\n",
       "customer_satisfaction            0\n",
       "age                              0\n",
       "warehouse_area_type              0\n",
       "warehouse_size                   0\n",
       "total_bill                       0\n",
       "dtype: int64"
      ]
     },
     "execution_count": 21,
     "metadata": {},
     "output_type": "execute_result"
    }
   ],
   "source": [
    "df.isnull().sum()"
   ]
  },
  {
   "cell_type": "markdown",
   "metadata": {
    "id": "EKq5NfLeQ3GE"
   },
   "source": [
    "#### **Question 4:** Check the statistical summary of the data."
   ]
  },
  {
   "cell_type": "code",
   "execution_count": 82,
   "metadata": {
    "id": "FM7o6Dqdm6uf"
   },
   "outputs": [
    {
     "data": {
      "text/html": [
       "<div>\n",
       "<style scoped>\n",
       "    .dataframe tbody tr th:only-of-type {\n",
       "        vertical-align: middle;\n",
       "    }\n",
       "\n",
       "    .dataframe tbody tr th {\n",
       "        vertical-align: top;\n",
       "    }\n",
       "\n",
       "    .dataframe thead th {\n",
       "        text-align: right;\n",
       "    }\n",
       "</style>\n",
       "<table border=\"1\" class=\"dataframe\">\n",
       "  <thead>\n",
       "    <tr style=\"text-align: right;\">\n",
       "      <th></th>\n",
       "      <th>count</th>\n",
       "      <th>mean</th>\n",
       "      <th>std</th>\n",
       "      <th>min</th>\n",
       "      <th>25%</th>\n",
       "      <th>50%</th>\n",
       "      <th>75%</th>\n",
       "      <th>max</th>\n",
       "    </tr>\n",
       "  </thead>\n",
       "  <tbody>\n",
       "    <tr>\n",
       "      <th>order_price</th>\n",
       "      <td>500.0</td>\n",
       "      <td>25415.536000</td>\n",
       "      <td>86357.715521</td>\n",
       "      <td>0.0000</td>\n",
       "      <td>6910.000000</td>\n",
       "      <td>12780.0000</td>\n",
       "      <td>20360.000000</td>\n",
       "      <td>947691.0000</td>\n",
       "    </tr>\n",
       "    <tr>\n",
       "      <th>delivery_charges</th>\n",
       "      <td>500.0</td>\n",
       "      <td>76.159380</td>\n",
       "      <td>15.954033</td>\n",
       "      <td>0.0000</td>\n",
       "      <td>65.892500</td>\n",
       "      <td>76.3100</td>\n",
       "      <td>82.555000</td>\n",
       "      <td>114.0400</td>\n",
       "    </tr>\n",
       "    <tr>\n",
       "      <th>coupon_discount</th>\n",
       "      <td>500.0</td>\n",
       "      <td>12.900000</td>\n",
       "      <td>7.596408</td>\n",
       "      <td>0.0000</td>\n",
       "      <td>10.000000</td>\n",
       "      <td>15.0000</td>\n",
       "      <td>15.000000</td>\n",
       "      <td>25.0000</td>\n",
       "    </tr>\n",
       "    <tr>\n",
       "      <th>distance_to_nearest_warehouse</th>\n",
       "      <td>500.0</td>\n",
       "      <td>2.204224</td>\n",
       "      <td>8.812416</td>\n",
       "      <td>0.1078</td>\n",
       "      <td>0.751425</td>\n",
       "      <td>1.0301</td>\n",
       "      <td>1.408625</td>\n",
       "      <td>94.9734</td>\n",
       "    </tr>\n",
       "    <tr>\n",
       "      <th>age</th>\n",
       "      <td>500.0</td>\n",
       "      <td>27.294000</td>\n",
       "      <td>2.911446</td>\n",
       "      <td>22.0000</td>\n",
       "      <td>25.000000</td>\n",
       "      <td>27.0000</td>\n",
       "      <td>30.000000</td>\n",
       "      <td>32.0000</td>\n",
       "    </tr>\n",
       "    <tr>\n",
       "      <th>total_bill</th>\n",
       "      <td>500.0</td>\n",
       "      <td>22053.444480</td>\n",
       "      <td>74547.818104</td>\n",
       "      <td>68.2400</td>\n",
       "      <td>6148.380000</td>\n",
       "      <td>11076.7450</td>\n",
       "      <td>17791.850000</td>\n",
       "      <td>853012.7200</td>\n",
       "    </tr>\n",
       "  </tbody>\n",
       "</table>\n",
       "</div>"
      ],
      "text/plain": [
       "                               count          mean           std      min  \\\n",
       "order_price                    500.0  25415.536000  86357.715521   0.0000   \n",
       "delivery_charges               500.0     76.159380     15.954033   0.0000   \n",
       "coupon_discount                500.0     12.900000      7.596408   0.0000   \n",
       "distance_to_nearest_warehouse  500.0      2.204224      8.812416   0.1078   \n",
       "age                            500.0     27.294000      2.911446  22.0000   \n",
       "total_bill                     500.0  22053.444480  74547.818104  68.2400   \n",
       "\n",
       "                                       25%         50%           75%  \\\n",
       "order_price                    6910.000000  12780.0000  20360.000000   \n",
       "delivery_charges                 65.892500     76.3100     82.555000   \n",
       "coupon_discount                  10.000000     15.0000     15.000000   \n",
       "distance_to_nearest_warehouse     0.751425      1.0301      1.408625   \n",
       "age                              25.000000     27.0000     30.000000   \n",
       "total_bill                     6148.380000  11076.7450  17791.850000   \n",
       "\n",
       "                                       max  \n",
       "order_price                    947691.0000  \n",
       "delivery_charges                  114.0400  \n",
       "coupon_discount                    25.0000  \n",
       "distance_to_nearest_warehouse      94.9734  \n",
       "age                                32.0000  \n",
       "total_bill                     853012.7200  "
      ]
     },
     "execution_count": 82,
     "metadata": {},
     "output_type": "execute_result"
    }
   ],
   "source": [
    "# get the summary statistics of the numerical data\n",
    "df.describe().T"
   ]
  },
  {
   "cell_type": "markdown",
   "metadata": {
    "id": "sH5NPhRim6ug"
   },
   "source": [
    "#### Observations:\n",
    "- Order_price and total_bill have a max value that is significantly higher than their mean. This means that these features have outliers. \n",
    "- Distance_to_nearest_warehouse also has a max value that is significantly higher than the mean, which means that this feature may also have some outliers. \n"
   ]
  },
  {
   "cell_type": "markdown",
   "metadata": {
    "id": "FQSI3GV8_PLI"
   },
   "source": [
    "### Identification of the Duplicate values if any"
   ]
  },
  {
   "cell_type": "code",
   "execution_count": 28,
   "metadata": {
    "id": "YwLKerPB_PLI"
   },
   "outputs": [
    {
     "data": {
      "text/plain": [
       "0"
      ]
     },
     "execution_count": 28,
     "metadata": {},
     "output_type": "execute_result"
    }
   ],
   "source": [
    "# Write the code here\n",
    "df.duplicated().sum()"
   ]
  },
  {
   "cell_type": "markdown",
   "metadata": {
    "id": "917bebbLTavR"
   },
   "source": [
    "#### Observations: \n",
    "- There are no duplicate values. "
   ]
  },
  {
   "cell_type": "markdown",
   "metadata": {
    "id": "CalgQcGo_PLI"
   },
   "source": [
    "## Data Treatment"
   ]
  },
  {
   "cell_type": "markdown",
   "metadata": {
    "id": "bZAc8KjB_PLI"
   },
   "source": [
    "#### Let's check if there is any discrepancy in the values in the following columns: 'occupation' and 'education'."
   ]
  },
  {
   "cell_type": "code",
   "execution_count": 30,
   "metadata": {
    "id": "4lEiFyof_PLI"
   },
   "outputs": [
    {
     "name": "stdout",
     "output_type": "stream",
     "text": [
      "Blue Collar     89\n",
      "Clerical        84\n",
      "Professional    76\n",
      "Manager         73\n",
      "Lawyer          66\n",
      "Student         50\n",
      "Home Maker      37\n",
      "Doctor          14\n",
      "Blue-Collar     11\n",
      "Name: occupation, dtype: int64\n",
      "High School    144\n",
      "Bachelors      139\n",
      "Masters        100\n",
      "School          69\n",
      "PhD             34\n",
      "?               14\n",
      "Name: education, dtype: int64\n"
     ]
    }
   ],
   "source": [
    "col = ['occupation', 'education']\n",
    "\n",
    "for column in col: \n",
    "    print (df[column].value_counts())"
   ]
  },
  {
   "cell_type": "markdown",
   "metadata": {
    "id": "KyJ2ySR8Tmoy"
   },
   "source": [
    "Observations:\n",
    "- In the occupation coluumn there are two columns for Blue Collar and Blue-Collar.\n",
    "- In the education column there is a column '?' that is undefined"
   ]
  },
  {
   "cell_type": "markdown",
   "metadata": {},
   "source": [
    "#### Replacing discrepancies"
   ]
  },
  {
   "cell_type": "code",
   "execution_count": 31,
   "metadata": {},
   "outputs": [],
   "source": [
    "df = df.replace({'occupation': {'Blue-Collar': 'Blue Collar'},\n",
    "                 'education': {'?': 'Unknown'}})"
   ]
  },
  {
   "cell_type": "code",
   "execution_count": 32,
   "metadata": {},
   "outputs": [
    {
     "name": "stdout",
     "output_type": "stream",
     "text": [
      "Blue Collar     100\n",
      "Clerical         84\n",
      "Professional     76\n",
      "Manager          73\n",
      "Lawyer           66\n",
      "Student          50\n",
      "Home Maker       37\n",
      "Doctor           14\n",
      "Name: occupation, dtype: int64\n",
      "High School    144\n",
      "Bachelors      139\n",
      "Masters        100\n",
      "School          69\n",
      "PhD             34\n",
      "Unknown         14\n",
      "Name: education, dtype: int64\n"
     ]
    }
   ],
   "source": [
    "col = ['occupation', 'education']\n",
    "\n",
    "for column in col: \n",
    "    print (df[column].value_counts())"
   ]
  },
  {
   "cell_type": "markdown",
   "metadata": {
    "id": "yzg6ATCym6um"
   },
   "source": [
    "## Exploratory Data Analysis (EDA)"
   ]
  },
  {
   "cell_type": "markdown",
   "metadata": {
    "id": "GK_S7XKY_PLJ"
   },
   "source": [
    "#### Now, after handling the missing values and also checking the data types, let's visualise the dataset."
   ]
  },
  {
   "cell_type": "markdown",
   "metadata": {
    "id": "f7GPrL1Rm6um"
   },
   "source": [
    "### Univariate Analysis"
   ]
  },
  {
   "cell_type": "markdown",
   "metadata": {
    "id": "nPGJLr1uHuYA"
   },
   "source": [
    "** By using the below functions, five relevant univariate and bivariate analyses of different columns are performed in addition to the observations.**"
   ]
  },
  {
   "cell_type": "code",
   "execution_count": 33,
   "metadata": {
    "id": "jnZmV8gg_PLW"
   },
   "outputs": [],
   "source": [
    "#Run this function\n",
    "def histogram_boxplot(data, feature, figsize=(12, 7), kde=False, bins=None):\n",
    "    \"\"\"\n",
    "    Boxplot and histogram combined\n",
    "\n",
    "    data: dataframe\n",
    "    feature: dataframe column\n",
    "    figsize: size of figure (default (12,7))\n",
    "    kde: whether to show the density curve (default False)\n",
    "    bins: number of bins for histogram (default None)\n",
    "    \"\"\"\n",
    "    f2, (ax_box2, ax_hist2) = plt.subplots(\n",
    "        nrows=2,  # Number of rows of the subplot grid= 2\n",
    "        sharex=True,  # x-axis will be shared among all subplots\n",
    "        gridspec_kw={\"height_ratios\": (0.25, 0.75)},\n",
    "        figsize=figsize,\n",
    "    )  # creating the 2 subplots\n",
    "    sns.boxplot(\n",
    "        data=data, x=feature, ax=ax_box2, showmeans=True, color=\"violet\"\n",
    "    )  # boxplot will be created and a star will indicate the mean value of the column\n",
    "    sns.histplot(\n",
    "        data=data, x=feature, kde=kde, ax=ax_hist2, bins=bins, palette=\"winter\"\n",
    "    ) if bins else sns.histplot(\n",
    "        data=data, x=feature, kde=kde, ax=ax_hist2\n",
    "    )  # For histogram\n",
    "    ax_hist2.axvline(\n",
    "        data[feature].mean(), color=\"green\", linestyle=\"--\"\n",
    "    )  # Add mean to the histogram\n",
    "    ax_hist2.axvline(\n",
    "        data[feature].median(), color=\"black\", linestyle=\"-\"\n",
    "    )  # Add median to the histogram"
   ]
  },
  {
   "cell_type": "code",
   "execution_count": 34,
   "metadata": {
    "id": "86SFtruI_PLX"
   },
   "outputs": [],
   "source": [
    "# function to create labeled barplots\n",
    "\n",
    "\n",
    "def labeled_barplot(data, feature, perc=False, n=None):\n",
    "    \"\"\"\n",
    "    Barplot with percentage at the top\n",
    "\n",
    "    data: dataframe\n",
    "    feature: dataframe column\n",
    "    perc: whether to display percentages instead of count (default is False)\n",
    "    n: displays the top n category levels (default is None, i.e., display all levels)\n",
    "    \"\"\"\n",
    "\n",
    "    total = len(data[feature])  # length of the column\n",
    "    count = data[feature].nunique()\n",
    "    if n is None:\n",
    "        plt.figure(figsize=(count + 1, 5))\n",
    "    else:\n",
    "        plt.figure(figsize=(n + 1, 5))\n",
    "\n",
    "    plt.xticks(rotation=90, fontsize=15)\n",
    "    ax = sns.countplot(\n",
    "        data=data,\n",
    "        x=feature,\n",
    "        color = 'g',\n",
    "        order=data[feature].value_counts().index[:n].sort_values(),\n",
    "    )\n",
    "\n",
    "    for p in ax.patches:\n",
    "        if perc == True:\n",
    "            label = \"{:.1f}%\".format(\n",
    "                100 * p.get_height() / total\n",
    "            )  # percentage of each class of the category\n",
    "        else:\n",
    "            label = p.get_height()  # count of each level of the category\n",
    "\n",
    "        x = p.get_x() + p.get_width() / 2  # width of the plot\n",
    "        y = p.get_height()  # height of the plot\n",
    "\n",
    "        ax.annotate(\n",
    "            label,\n",
    "            (x, y),\n",
    "            ha=\"center\",\n",
    "            va=\"center\",\n",
    "            size=12,\n",
    "            xytext=(0, 5),\n",
    "            textcoords=\"offset points\",\n",
    "        )  # annotate the percentage\n",
    "\n",
    "    plt.show()  # show the plot"
   ]
  },
  {
   "cell_type": "code",
   "execution_count": 35,
   "metadata": {
    "id": "yyGzBmWT_PLX"
   },
   "outputs": [],
   "source": [
    "def stacked_barplot(data, predictor, target):\n",
    "    \"\"\"\n",
    "    Print the category counts and plot a stacked bar chart\n",
    "\n",
    "    data: dataframe\n",
    "    predictor: independent variable\n",
    "    target: target variable\n",
    "    \"\"\"\n",
    "    count = data[predictor].nunique()\n",
    "    sorter = data[target].value_counts().index[-1]\n",
    "    tab1 = pd.crosstab(data[predictor], data[target], margins=True).sort_values(\n",
    "        by=sorter, ascending=False\n",
    "    )\n",
    "    print(tab1)\n",
    "    print(\"-\" * 120)\n",
    "    tab = pd.crosstab(data[predictor], data[target], normalize=\"index\").sort_values(\n",
    "        by=sorter, ascending=False\n",
    "    )\n",
    "    tab.plot(kind=\"bar\", stacked=True, figsize=(count + 5, 5))\n",
    "    plt.legend(\n",
    "        loc=\"lower left\", frameon=False,\n",
    "    )\n",
    "    plt.legend(loc=\"upper left\", bbox_to_anchor=(1, 1))\n",
    "    plt.show()"
   ]
  },
  {
   "cell_type": "code",
   "execution_count": 36,
   "metadata": {
    "id": "g_3HT_w2_PLX"
   },
   "outputs": [],
   "source": [
    "### function to plot distributions wrt target\n",
    "\n",
    "def distribution_plot_wrt_target(data, predictor, target):\n",
    "\n",
    "    fig, axs = plt.subplots(2, 2, figsize=(12, 10))\n",
    "\n",
    "    target_uniq = data[target].unique()\n",
    "\n",
    "    axs[0, 0].set_title(\"Distribution of target for target=\" + str(target_uniq[0]))\n",
    "    sns.histplot(\n",
    "        data=data[data[target] == target_uniq[0]],\n",
    "        x=predictor,\n",
    "        kde=True,\n",
    "        ax=axs[0, 0],\n",
    "        color=\"teal\",\n",
    "        stat=\"density\",\n",
    "    )\n",
    "\n",
    "    axs[0, 1].set_title(\"Distribution of target for target=\" + str(target_uniq[1]))\n",
    "    sns.histplot(\n",
    "        data=data[data[target] == target_uniq[1]],\n",
    "        x=predictor,\n",
    "        kde=True,\n",
    "        ax=axs[0, 1],\n",
    "        color=\"orange\",\n",
    "        stat=\"density\",\n",
    "    )\n",
    "\n",
    "    axs[1, 0].set_title(\"Boxplot w.r.t target\")\n",
    "    sns.boxplot(data=data, x=target, y=predictor, ax=axs[1, 0], palette=\"gist_rainbow\")\n",
    "\n",
    "    axs[1, 1].set_title(\"Boxplot (without outliers) w.r.t target\")\n",
    "    sns.boxplot(\n",
    "        data=data,\n",
    "        x=target,\n",
    "        y=predictor,\n",
    "        ax=axs[1, 1],\n",
    "        showfliers=False,\n",
    "        palette=\"gist_rainbow\",\n",
    "    )\n",
    "\n",
    "    plt.tight_layout()\n",
    "    plt.show()"
   ]
  },
  {
   "cell_type": "markdown",
   "metadata": {
    "id": "45bjL7nJL402"
   },
   "source": [
    "**Perform univariant analysis on each column and write observations**"
   ]
  },
  {
   "cell_type": "code",
   "execution_count": 38,
   "metadata": {
    "id": "64_UKL5KL8Kc"
   },
   "outputs": [
    {
     "data": {
      "image/png": "[encoded data removed]",
      "text/plain": [
       "<Figure size 864x504 with 2 Axes>"
      ]
     },
     "metadata": {
      "needs_background": "light"
     },
     "output_type": "display_data"
    }
   ],
   "source": [
    "# Write the code here\n",
    "histogram_boxplot(df, 'age')"
   ]
  },
  {
   "cell_type": "markdown",
   "metadata": {},
   "source": [
    "#### Observations:\n",
    "- No outliers are present\n",
    "- The median age is 27 \n",
    "- The mean age is 27.5"
   ]
  },
  {
   "cell_type": "code",
   "execution_count": 39,
   "metadata": {},
   "outputs": [
    {
     "data": {
      "image/png": "[encoded data removed]",
      "text/plain": [
       "<Figure size 864x504 with 2 Axes>"
      ]
     },
     "metadata": {
      "needs_background": "light"
     },
     "output_type": "display_data"
    }
   ],
   "source": [
    "histogram_boxplot(df, 'order_price')"
   ]
  },
  {
   "cell_type": "markdown",
   "metadata": {},
   "source": [
    "#### Observations:\n",
    "- Outliers are present in order_price\n",
    "- Mean and median of data is hard to read due to outliers "
   ]
  },
  {
   "cell_type": "code",
   "execution_count": 57,
   "metadata": {},
   "outputs": [
    {
     "data": {
      "image/png": "[encoded data removed]",
      "text/plain": [
       "<Figure size 864x504 with 2 Axes>"
      ]
     },
     "metadata": {
      "needs_background": "light"
     },
     "output_type": "display_data"
    }
   ],
   "source": [
    "histogram_boxplot(df, 'total_bill')"
   ]
  },
  {
   "cell_type": "markdown",
   "metadata": {},
   "source": [
    "#### Observations:\n",
    "- Outliers are present in total_bill\n",
    "- Mean and median of data is hard to read due to outliers "
   ]
  },
  {
   "cell_type": "code",
   "execution_count": 66,
   "metadata": {},
   "outputs": [
    {
     "data": {
      "image/png": "[encoded data removed]",
      "text/plain": [
       "<Figure size 864x504 with 2 Axes>"
      ]
     },
     "metadata": {
      "needs_background": "light"
     },
     "output_type": "display_data"
    }
   ],
   "source": [
    "histogram_boxplot(df, 'delivery_charges')"
   ]
  },
  {
   "cell_type": "markdown",
   "metadata": {},
   "source": [
    "#### Observations:\n",
    "- Not a lot of outliers present\n",
    "- Mean and median of delivery charges is 76\n",
    "- Mode of delivery charges is 80"
   ]
  },
  {
   "cell_type": "code",
   "execution_count": 62,
   "metadata": {},
   "outputs": [
    {
     "data": {
      "image/png": "[encoded data removed]",
      "text/plain": [
       "<Figure size 216x360 with 1 Axes>"
      ]
     },
     "metadata": {
      "needs_background": "light"
     },
     "output_type": "display_data"
    }
   ],
   "source": [
    "labeled_barplot(df, 'marital_status')"
   ]
  },
  {
   "cell_type": "markdown",
   "metadata": {},
   "source": [
    "#### Observations: \n",
    "- More customers are married (32 more)"
   ]
  },
  {
   "cell_type": "code",
   "execution_count": 63,
   "metadata": {},
   "outputs": [
    {
     "data": {
      "image/png": "[encoded data removed]",
      "text/plain": [
       "<Figure size 648x360 with 1 Axes>"
      ]
     },
     "metadata": {
      "needs_background": "light"
     },
     "output_type": "display_data"
    }
   ],
   "source": [
    "labeled_barplot(df, 'occupation')"
   ]
  },
  {
   "cell_type": "markdown",
   "metadata": {},
   "source": [
    "#### Observations:\n",
    "- Most popular occupation within the dataset is \"Blue Collar\"\n",
    "- Clerical is the second most popular occupation after \"Blue Collar\"\n",
    "- Least popular occupation within the dataset is \"Doctor\""
   ]
  },
  {
   "cell_type": "code",
   "execution_count": 64,
   "metadata": {
    "scrolled": true
   },
   "outputs": [
    {
     "data": {
      "image/png": "[encoded data removed]",
      "text/plain": [
       "<Figure size 504x360 with 1 Axes>"
      ]
     },
     "metadata": {
      "needs_background": "light"
     },
     "output_type": "display_data"
    }
   ],
   "source": [
    "labeled_barplot(df, 'education')"
   ]
  },
  {
   "cell_type": "markdown",
   "metadata": {},
   "source": [
    "#### Observations:\n",
    "- Most popular education level within the dataset is High School with Bachelors following close behind it.\n",
    "- PhD is the least popular education level\n",
    "- There are 14 customers with an Unknown education level"
   ]
  },
  {
   "cell_type": "code",
   "execution_count": 65,
   "metadata": {},
   "outputs": [
    {
     "data": {
      "image/png": "[encoded data removed]",
      "text/plain": [
       "<Figure size 288x360 with 1 Axes>"
      ]
     },
     "metadata": {
      "needs_background": "light"
     },
     "output_type": "display_data"
    }
   ],
   "source": [
    "labeled_barplot(df, 'warehouse_name')"
   ]
  },
  {
   "cell_type": "markdown",
   "metadata": {},
   "source": [
    "#### Observations:\n",
    "- Thompson is the most popular warehouse with Nickolson follwoing close behind it with 13 less orders "
   ]
  },
  {
   "cell_type": "markdown",
   "metadata": {
    "id": "QS_1qI74_PLY"
   },
   "source": [
    "### Bivariate Analysis\n"
   ]
  },
  {
   "cell_type": "markdown",
   "metadata": {
    "id": "FVSGZ2-po1HC"
   },
   "source": [
    "#### Plot the heatmap."
   ]
  },
  {
   "cell_type": "code",
   "execution_count": 42,
   "metadata": {
    "id": "oYjUtOpe_PLY"
   },
   "outputs": [
    {
     "data": {
      "image/png": "[encoded data removed]",
      "text/plain": [
       "<Figure size 1080x504 with 2 Axes>"
      ]
     },
     "metadata": {
      "needs_background": "light"
     },
     "output_type": "display_data"
    }
   ],
   "source": [
    "# Write the code here\n",
    "plt.figure(figsize = (15,7))\n",
    "sns.heatmap(df.corr(), annot = True, vmin = -1, vmax = 1, fmt = \".2f\", cmap = \"Spectral\")\n",
    "plt.show()"
   ]
  },
  {
   "cell_type": "markdown",
   "metadata": {
    "id": "7-H8Lc1UM27H"
   },
   "source": [
    "#### Observations:\n",
    "- There is a high positive correlation between the features is_expedited_delivery and customer_satisfaction. As well as is_expedited_delivery and delivery_charges.\n",
    "- There is a slight positive correlarion between customer_satisfaction and delivery_charges. \n",
    "- There is a slight negative correlation between coupon_discount and delivery_charges."
   ]
  },
  {
   "cell_type": "markdown",
   "metadata": {
    "id": "Lj-g5W8Jm6vI",
    "outputId": "3c072052-ec56-4a49-ff28-3bf8c2c0d4a5",
    "scrolled": true
   },
   "source": [
    "**Do the bivariate analysis between column name - \"customer_satisfaction\" and different integer and categorical variables and write down the observations.**"
   ]
  },
  {
   "cell_type": "code",
   "execution_count": 43,
   "metadata": {
    "id": "DTw623dJML3Y"
   },
   "outputs": [
    {
     "name": "stdout",
     "output_type": "stream",
     "text": [
      "customer_satisfaction  False  True  All\n",
      "marital_status                         \n",
      "All                      238   262  500\n",
      "Yes                      121   145  266\n",
      "No                       117   117  234\n",
      "------------------------------------------------------------------------------------------------------------------------\n"
     ]
    },
    {
     "data": {
      "image/png": "[encoded data removed]",
      "text/plain": [
       "<Figure size 504x360 with 1 Axes>"
      ]
     },
     "metadata": {
      "needs_background": "light"
     },
     "output_type": "display_data"
    }
   ],
   "source": [
    "# Write the code here\n",
    "stacked_barplot(df, \"marital_status\",\"customer_satisfaction\")"
   ]
  },
  {
   "cell_type": "markdown",
   "metadata": {},
   "source": [
    "#### Observations:\n",
    "- There seems to be no significant correlation between marital status and customer satisfaction. \n",
    "- Customer satisfaction for both married and not married are pretty equal."
   ]
  },
  {
   "cell_type": "code",
   "execution_count": 44,
   "metadata": {},
   "outputs": [
    {
     "name": "stdout",
     "output_type": "stream",
     "text": [
      "customer_satisfaction  False  True  All\n",
      "education                              \n",
      "All                      238   262  500\n",
      "Bachelors                 69    70  139\n",
      "High School               60    84  144\n",
      "Masters                   56    44  100\n",
      "School                    31    38   69\n",
      "PhD                       17    17   34\n",
      "Unknown                    5     9   14\n",
      "------------------------------------------------------------------------------------------------------------------------\n"
     ]
    },
    {
     "data": {
      "image/png": "[encoded data removed]",
      "text/plain": [
       "<Figure size 792x360 with 1 Axes>"
      ]
     },
     "metadata": {
      "needs_background": "light"
     },
     "output_type": "display_data"
    }
   ],
   "source": [
    "stacked_barplot(df, \"education\",\"customer_satisfaction\")"
   ]
  },
  {
   "cell_type": "markdown",
   "metadata": {},
   "source": [
    "#### Observations: \n",
    "- Customers with a Masters show the most customer unsatisfaction.\n",
    "- Those with an unknown and high school education level have the most satisfaction. \n"
   ]
  },
  {
   "cell_type": "code",
   "execution_count": 45,
   "metadata": {},
   "outputs": [
    {
     "name": "stdout",
     "output_type": "stream",
     "text": [
      "customer_satisfaction  False  True  All\n",
      "occupation                             \n",
      "All                      238   262  500\n",
      "Blue Collar               47    53  100\n",
      "Professional              40    36   76\n",
      "Lawyer                    38    28   66\n",
      "Manager                   38    35   73\n",
      "Clerical                  32    52   84\n",
      "Student                   21    29   50\n",
      "Home Maker                14    23   37\n",
      "Doctor                     8     6   14\n",
      "------------------------------------------------------------------------------------------------------------------------\n"
     ]
    },
    {
     "data": {
      "image/png": "[encoded data removed]",
      "text/plain": [
       "<Figure size 936x360 with 1 Axes>"
      ]
     },
     "metadata": {
      "needs_background": "light"
     },
     "output_type": "display_data"
    }
   ],
   "source": [
    "stacked_barplot(df, \"occupation\",\"customer_satisfaction\")"
   ]
  },
  {
   "cell_type": "markdown",
   "metadata": {},
   "source": [
    "#### Observations: \n",
    "- Customers with the occupation of a lawyer and doctor have the least customer satisfaction out of all the other occupations in the dataset.\n",
    "- Customers with the occupation of a Clerical or Home-maker have the highest customer satisfaction."
   ]
  },
  {
   "cell_type": "code",
   "execution_count": 69,
   "metadata": {},
   "outputs": [
    {
     "name": "stdout",
     "output_type": "stream",
     "text": [
      "customer_satisfaction  False  True  All\n",
      "warehouse_size                         \n",
      "All                      238   262  500\n",
      "Large                     96   101  197\n",
      "Medium                    85    99  184\n",
      "Small                     57    62  119\n",
      "------------------------------------------------------------------------------------------------------------------------\n"
     ]
    },
    {
     "data": {
      "image/png": "[encoded data removed]",
      "text/plain": [
       "<Figure size 576x360 with 1 Axes>"
      ]
     },
     "metadata": {
      "needs_background": "light"
     },
     "output_type": "display_data"
    }
   ],
   "source": [
    "stacked_barplot(df, \"warehouse_size\",\"customer_satisfaction\")"
   ]
  },
  {
   "cell_type": "markdown",
   "metadata": {},
   "source": [
    "#### Observations: \n",
    "- There are no significant correlations between warehouse_size and customer_satisfaction. Customer satisfaction over the three different warehouse sizes are all very similar."
   ]
  },
  {
   "cell_type": "code",
   "execution_count": 71,
   "metadata": {},
   "outputs": [
    {
     "name": "stdout",
     "output_type": "stream",
     "text": [
      "customer_satisfaction  False  True  All\n",
      "is_expedited_delivery                  \n",
      "All                      238   262  500\n",
      "False                    195    56  251\n",
      "True                      43   206  249\n",
      "------------------------------------------------------------------------------------------------------------------------\n"
     ]
    },
    {
     "data": {
      "image/png": "[encoded data removed]",
      "text/plain": [
       "<Figure size 504x360 with 1 Axes>"
      ]
     },
     "metadata": {
      "needs_background": "light"
     },
     "output_type": "display_data"
    }
   ],
   "source": [
    "stacked_barplot(df, \"is_expedited_delivery\",\"customer_satisfaction\")"
   ]
  },
  {
   "cell_type": "markdown",
   "metadata": {},
   "source": [
    "#### Observations:\n",
    "- Customers with expedited delivery have significantly higher customer satisfaction than customers who do not have expedited delivery. \n",
    "- Customers without expedited delivery have significantly lower customer satisfaction. "
   ]
  },
  {
   "cell_type": "code",
   "execution_count": 72,
   "metadata": {},
   "outputs": [
    {
     "name": "stdout",
     "output_type": "stream",
     "text": [
      "customer_satisfaction  False  True  All\n",
      "warehouse_area_type                    \n",
      "All                      238   262  500\n",
      "Industrial                96   101  197\n",
      "Commercial                85    99  184\n",
      "Residential               57    62  119\n",
      "------------------------------------------------------------------------------------------------------------------------\n"
     ]
    },
    {
     "data": {
      "image/png": "[encoded data removed]",
      "text/plain": [
       "<Figure size 576x360 with 1 Axes>"
      ]
     },
     "metadata": {
      "needs_background": "light"
     },
     "output_type": "display_data"
    }
   ],
   "source": [
    "stacked_barplot(df, \"warehouse_area_type\",\"customer_satisfaction\")"
   ]
  },
  {
   "cell_type": "markdown",
   "metadata": {},
   "source": [
    "#### Observations:\n",
    "- There are no significant correlation between customer satisfaction and warehouse_area_type.\n",
    "- Equal level of satisfaction amongst all warehouse area types."
   ]
  },
  {
   "cell_type": "code",
   "execution_count": 73,
   "metadata": {},
   "outputs": [
    {
     "name": "stdout",
     "output_type": "stream",
     "text": [
      "customer_satisfaction  False  True  All\n",
      "order_type                             \n",
      "All                      238   262  500\n",
      "Prepaid                  137   181  318\n",
      "COD                      101    81  182\n",
      "------------------------------------------------------------------------------------------------------------------------\n"
     ]
    },
    {
     "data": {
      "image/png": "[encoded data removed]",
      "text/plain": [
       "<Figure size 504x360 with 1 Axes>"
      ]
     },
     "metadata": {
      "needs_background": "light"
     },
     "output_type": "display_data"
    }
   ],
   "source": [
    "stacked_barplot(df, \"order_type\",\"customer_satisfaction\")"
   ]
  },
  {
   "cell_type": "markdown",
   "metadata": {},
   "source": [
    "#### Observations: \n",
    "- Customers who had prepaid orders had higher customer satisfaction than COD orders.\n",
    "- COD order types have the lowest customer satisfaction."
   ]
  },
  {
   "cell_type": "code",
   "execution_count": 75,
   "metadata": {},
   "outputs": [
    {
     "name": "stdout",
     "output_type": "stream",
     "text": [
      "customer_satisfaction  False  True  All\n",
      "coupon_discount                        \n",
      "All                      238   262  500\n",
      "15                        78    76  154\n",
      "10                        68    75  143\n",
      "25                        45    54   99\n",
      "0                         28    29   57\n",
      "5                         19    28   47\n",
      "------------------------------------------------------------------------------------------------------------------------\n"
     ]
    },
    {
     "data": {
      "image/png": "[encoded data removed]",
      "text/plain": [
       "<Figure size 720x360 with 1 Axes>"
      ]
     },
     "metadata": {
      "needs_background": "light"
     },
     "output_type": "display_data"
    }
   ],
   "source": [
    "stacked_barplot(df, \"coupon_discount\",\"customer_satisfaction\")"
   ]
  },
  {
   "cell_type": "markdown",
   "metadata": {},
   "source": [
    "#### Observations:\n",
    "- There are no significant correlation between customer satisfaction and coupon_discount.\n",
    "- 5% coupon discount had a slight higher customer satisfaction then the rest of the discounts. "
   ]
  },
  {
   "cell_type": "markdown",
   "metadata": {
    "id": "ZvMVvk4s_PLh"
   },
   "source": [
    "## Answer the following business questions based upon the data"
   ]
  },
  {
   "cell_type": "markdown",
   "metadata": {
    "id": "3eMa39du_PLk"
   },
   "source": [
    "##### [Q1] What is the revenue across each warehouse?"
   ]
  },
  {
   "cell_type": "code",
   "execution_count": 46,
   "metadata": {
    "id": "R93rPPhKVx4B"
   },
   "outputs": [
    {
     "data": {
      "text/plain": [
       "warehouse_name\n",
       "Bakers       2327818.79\n",
       "Nickolson    3026175.36\n",
       "Thompson     5672728.09\n",
       "Name: total_bill, dtype: float64"
      ]
     },
     "execution_count": 46,
     "metadata": {},
     "output_type": "execute_result"
    }
   ],
   "source": [
    "df.groupby('warehouse_name')['total_bill'].sum() #group by warehouse name and find the sum of the total bill will allow us to get the \"revenue\" for each warehouse name"
   ]
  },
  {
   "cell_type": "markdown",
   "metadata": {},
   "source": [
    "#### Observations: \n",
    "- The most revenue came out of the Thompson warehouse by over a million dollars compared to the rest of the warehouses. \n",
    "- The least amount of revenue came out of the Bakers warehouse. "
   ]
  },
  {
   "cell_type": "markdown",
   "metadata": {
    "id": "KPEXD3JDUa_K"
   },
   "source": [
    "##### [Q2] What is the distribution of orders across different months?"
   ]
  },
  {
   "cell_type": "code",
   "execution_count": 52,
   "metadata": {
    "id": "jMA503MObwS4"
   },
   "outputs": [],
   "source": [
    "df['order_month'] = df.order_date.dt.month_name() # extracting the month name from the date"
   ]
  },
  {
   "cell_type": "code",
   "execution_count": 53,
   "metadata": {},
   "outputs": [
    {
     "data": {
      "text/plain": [
       "May     174\n",
       "July    173\n",
       "June    153\n",
       "Name: order_month, dtype: int64"
      ]
     },
     "execution_count": 53,
     "metadata": {},
     "output_type": "execute_result"
    }
   ],
   "source": [
    "df.order_month.value_counts() #count the number of orders in each month"
   ]
  },
  {
   "cell_type": "markdown",
   "metadata": {},
   "source": [
    "#### Observations: \n",
    "May had the highest number of orders compared to all the other months."
   ]
  },
  {
   "cell_type": "markdown",
   "metadata": {
    "id": "p1WPKwYs_PLk"
   },
   "source": [
    "##### [Q3] What is the revenue generated across various months?"
   ]
  },
  {
   "cell_type": "code",
   "execution_count": 56,
   "metadata": {
    "id": "nAbqTQum_PLk"
   },
   "outputs": [
    {
     "data": {
      "text/plain": [
       "order_month\n",
       "July    4450092.56\n",
       "June    3278631.03\n",
       "May     3297998.65\n",
       "Name: total_bill, dtype: float64"
      ]
     },
     "execution_count": 56,
     "metadata": {},
     "output_type": "execute_result"
    }
   ],
   "source": [
    "df.groupby('order_month')['total_bill'].sum() #group by order month and find the sum of the total bill will allow us to get the \"revenue\" for each month"
   ]
  },
  {
   "cell_type": "markdown",
   "metadata": {},
   "source": [
    "#### Observations: \n",
    "- July brought the most revenue out of all the months by a million. \n",
    "- May brought the least revenue."
   ]
  },
  {
   "cell_type": "markdown",
   "metadata": {
    "id": "oa7QMzh3YVOM"
   },
   "source": [
    "##### [Q4] What is the customer satisfaction distribution across different coupon discounts?"
   ]
  },
  {
   "cell_type": "code",
   "execution_count": 86,
   "metadata": {},
   "outputs": [
    {
     "name": "stdout",
     "output_type": "stream",
     "text": [
      "customer_satisfaction  False  True  All\n",
      "coupon_discount                        \n",
      "All                      238   262  500\n",
      "15                        78    76  154\n",
      "10                        68    75  143\n",
      "25                        45    54   99\n",
      "0                         28    29   57\n",
      "5                         19    28   47\n",
      "------------------------------------------------------------------------------------------------------------------------\n"
     ]
    },
    {
     "data": {
      "image/png": "[encoded data removed]",
      "text/plain": [
       "<Figure size 720x360 with 1 Axes>"
      ]
     },
     "metadata": {
      "needs_background": "light"
     },
     "output_type": "display_data"
    }
   ],
   "source": [
    "stacked_barplot(df, \"coupon_discount\",\"customer_satisfaction\")"
   ]
  },
  {
   "cell_type": "markdown",
   "metadata": {},
   "source": [
    "#### Barplot of Unsatisfied Customers across Coupon Discounts: "
   ]
  },
  {
   "cell_type": "code",
   "execution_count": 47,
   "metadata": {
    "id": "LUqxcTa7gXR_"
   },
   "outputs": [
    {
     "data": {
      "text/plain": [
       "<AxesSubplot:>"
      ]
     },
     "execution_count": 47,
     "metadata": {},
     "output_type": "execute_result"
    },
    {
     "data": {
      "image/png": "[encoded data removed]",
      "text/plain": [
       "<Figure size 432x288 with 1 Axes>"
      ]
     },
     "metadata": {
      "needs_background": "light"
     },
     "output_type": "display_data"
    }
   ],
   "source": [
    "df[df.customer_satisfaction == False]['coupon_discount'].value_counts().plot(kind = 'bar')"
   ]
  },
  {
   "cell_type": "markdown",
   "metadata": {},
   "source": [
    "#### Barplot of Satisfied Customers across Coupon Discounts: "
   ]
  },
  {
   "cell_type": "code",
   "execution_count": 84,
   "metadata": {},
   "outputs": [
    {
     "data": {
      "text/plain": [
       "<AxesSubplot:>"
      ]
     },
     "execution_count": 84,
     "metadata": {},
     "output_type": "execute_result"
    },
    {
     "data": {
      "image/png": "[encoded data removed]",
      "text/plain": [
       "<Figure size 432x288 with 1 Axes>"
      ]
     },
     "metadata": {
      "needs_background": "light"
     },
     "output_type": "display_data"
    }
   ],
   "source": [
    "df[df.customer_satisfaction == True]['coupon_discount'].value_counts().plot(kind = 'bar')"
   ]
  },
  {
   "cell_type": "markdown",
   "metadata": {},
   "source": [
    "#### Observations: \n",
    "- For the most part across a majority of the coupon discounts there were an equal number of customers who were satisfied and unsatisfied with their order. \n",
    "- However those with a 25% and 5% discount had the most percentage of customers who were satisfied. Essentially there were slightly more customers who were satisfied with their order than unsatisfied."
   ]
  },
  {
   "cell_type": "markdown",
   "metadata": {
    "id": "WrYKHnjgm6vO"
   },
   "source": [
    "## Conclusion"
   ]
  },
  {
   "cell_type": "markdown",
   "metadata": {
    "id": "nUXFj9UJMREh"
   },
   "source": [
    "### Observations & Recommendations for Target Audience: \n",
    "- The mean age is 27.5.\n",
    "    - Make sure to target those in their late 20s more than any other age group. \n",
    "- Most popular education level within the dataset is High School with Bachelors following close behind it.\n",
    "    - Target those in these education levels. \n",
    "- Most popular occupation within the dataset is \"Blue Collar\". Clerical is the second most popular occupation after \"Blue Collar\". Least popular occupation within the dataset is \"Doctor\". \n",
    "    - Target those customers who have the occupation of Blue Collar and Clerical since they are the two most frequent consumers. \n",
    "    \n",
    "### Observations & Recommendations for Revenue:\n",
    "- July brought the most revenue out of all the months by a million. \n",
    "- May brought back the least amount of revenue comapred to the rest of the months despite the fact that it had the most amount of orders. \n",
    "    - Too many coupon discounts may have been given during this time. \n",
    "    - For the future it is important to set a limit to the amount of coupon discounts for each month. \n",
    "- The most revenue came out of the Thompson warehouse by over a million dollars compared to the rest of the warehouses.\n",
    "- The least amount of revenue came out of the Bakers warehouse.\n",
    "    - Check on the Bakers warehouse because they might need more assistance or funding. \n",
    "\n",
    "    \n",
    "### Observations & Recommendations for Customer Satisfaction:\n",
    "- Customers who had prepaid orders had higher customer satisfaction than COD orders.\n",
    "    - Recommend that customers do pre-paid orders rather than cash on delivery orders. \n",
    "    - Focus on improving customer satisfaction on cash on delivery orders. \n",
    "- Customers with expedited delivery have significantly higher customer satisfaction than customers who do not have expedited delivery.\n",
    "    - Recommend that customers do expedited delivery.\n",
    "    - Focus on improving the delivery for customers that do not order expedited delivery.\n",
    "- Customers with the occupation of a lawyer and doctor have the least customer satisfaction out of all the other occupations in the dataset. Customers with the occupation of a Clerical or Home-maker have the highest customer satisfaction.\n",
    "    - Focus on improving customer satisfaction for lawyers and doctors.\n",
    "- For the most part across a majority of the coupon discounts there were an equal number of customers who were satisfied and unsatisfied with their order.\n",
    "- However those with a 25% and 5% discount had the most percentage of customers who were satisfied. Essentially there were slightly more customers who were satisfied with their order than unsatisfied.\n",
    "    - Don't focus too much on coupon discounts because they dont have much of an effect on customer satisfaction. "
   ]
  },
  {
   "cell_type": "code",
   "execution_count": 87,
   "metadata": {
    "id": "Yy_xBnyE5ffI"
   },
   "outputs": [],
   "source": [
    "### Export the dataset to be used for next milestone\n",
    "df.to_csv('milestone2_output.csv', index=False)"
   ]
  },
  {
   "cell_type": "markdown",
   "metadata": {
    "id": "8EGfc2RM_PLm"
   },
   "source": [
    "**Submit this notebook file**"
   ]
  }
 ],
 "metadata": {
  "colab": {
   "collapsed_sections": [],
   "name": "AlphaKart_Milestone2_Learner_Notebook_v1.ipynb",
   "provenance": []
  },
  "kernelspec": {
   "display_name": "Python 3 (ipykernel)",
   "language": "python",
   "name": "python3"
  },
  "language_info": {
   "codemirror_mode": {
    "name": "ipython",
    "version": 3
   },
   "file_extension": ".py",
   "mimetype": "text/x-python",
   "name": "python",
   "nbconvert_exporter": "python",
   "pygments_lexer": "ipython3",
   "version": "3.9.12"
  }
 },
 "nbformat": 4,
 "nbformat_minor": 1
}
